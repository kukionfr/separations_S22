{
 "cells": [
  {
   "cell_type": "markdown",
   "source": [
    "## Week 1: Manipulating Data Structure\n",
    "\n",
    "### Tip 1: Datatype\n",
    "- **String** : text with \" \" notation, slicing, replace, format\n",
    "- **Integer** : number without a decimal point\n",
    "- **Float** : number with a decimal point\n",
    "- **Complex** : real number with imaginary number expressed in the form a+bi\n",
    "- **Boolean** : true or false\n",
    "- **List** : [] mutable array\n",
    "- **Tuple** : () immutable array\n",
    "- **Set** : {} unchangeable array without index and duplicate element\n",
    "- **Dictionary** : { 'key1':variable1, 'key2':variable2, ... }\n",
    "\n",
    "**For more info:** https://docs.python.org/3/library/datatypes.html\n",
    "\n",
    "### Tip 2: For-loop, Enumerate, List comprehension\n",
    "\n",
    "### Tip 3: Sympy\n",
    "    - sym.symbols\n",
    "    - sym.Eq\n",
    "    - sym.solve"
   ],
   "metadata": {
    "collapsed": false,
    "pycharm": {
     "name": "#%% md\n"
    }
   }
  },
  {
   "cell_type": "markdown",
   "source": [
    "### Datatype 1: String\n"
   ],
   "metadata": {
    "collapsed": false
   }
  },
  {
   "cell_type": "code",
   "execution_count": 45,
   "outputs": [
    {
     "name": "stdout",
     "output_type": "stream",
     "text": [
      "Hello, World!\n"
     ]
    }
   ],
   "source": [
    "print('Hello, World!')"
   ],
   "metadata": {
    "collapsed": false,
    "pycharm": {
     "name": "#%%\n"
    }
   }
  },
  {
   "cell_type": "markdown",
   "source": [
    "#### Indexing an array"
   ],
   "metadata": {
    "collapsed": false,
    "pycharm": {
     "name": "#%% md\n"
    }
   }
  },
  {
   "cell_type": "code",
   "execution_count": 46,
   "outputs": [],
   "source": [
    "message = \"Hello Blue Jays\""
   ],
   "metadata": {
    "collapsed": false,
    "pycharm": {
     "name": "#%%\n"
    }
   }
  },
  {
   "cell_type": "code",
   "execution_count": 47,
   "outputs": [
    {
     "data": {
      "text/plain": "'H'"
     },
     "execution_count": 47,
     "metadata": {},
     "output_type": "execute_result"
    }
   ],
   "source": [
    "message[0]"
   ],
   "metadata": {
    "collapsed": false,
    "pycharm": {
     "name": "#%%\n"
    }
   }
  },
  {
   "cell_type": "code",
   "execution_count": 48,
   "outputs": [
    {
     "data": {
      "text/plain": "'Hello'"
     },
     "execution_count": 48,
     "metadata": {},
     "output_type": "execute_result"
    }
   ],
   "source": [
    "message[0:5]"
   ],
   "metadata": {
    "collapsed": false,
    "pycharm": {
     "name": "#%%\n"
    }
   }
  },
  {
   "cell_type": "code",
   "execution_count": 49,
   "outputs": [
    {
     "data": {
      "text/plain": "'Hello'"
     },
     "execution_count": 49,
     "metadata": {},
     "output_type": "execute_result"
    }
   ],
   "source": [
    "message[:5]"
   ],
   "metadata": {
    "collapsed": false,
    "pycharm": {
     "name": "#%%\n"
    }
   }
  },
  {
   "cell_type": "markdown",
   "source": [
    "Using the <font color='Red'> .replace(\"old_string\", \"new_string\") </font> to change the content"
   ],
   "metadata": {
    "collapsed": false,
    "pycharm": {
     "name": "#%% md\n"
    }
   }
  },
  {
   "cell_type": "code",
   "source": [
    "message.replace('Hello','Hi')"
   ],
   "metadata": {
    "collapsed": false,
    "pycharm": {
     "name": "#%%\n"
    }
   },
   "execution_count": 50,
   "outputs": [
    {
     "data": {
      "text/plain": "'Hi Blue Jays'"
     },
     "execution_count": 50,
     "metadata": {},
     "output_type": "execute_result"
    }
   ]
  },
  {
   "cell_type": "markdown",
   "source": [
    "To display a variable, either type the variable alone within a line, or use print"
   ],
   "metadata": {
    "collapsed": false,
    "pycharm": {
     "name": "#%% md\n"
    }
   }
  },
  {
   "cell_type": "code",
   "execution_count": 52,
   "outputs": [
    {
     "data": {
      "text/plain": "'Hello Blue Jays'"
     },
     "execution_count": 52,
     "metadata": {},
     "output_type": "execute_result"
    }
   ],
   "source": [
    "message"
   ],
   "metadata": {
    "collapsed": false,
    "pycharm": {
     "name": "#%%\n"
    }
   }
  },
  {
   "cell_type": "code",
   "execution_count": 53,
   "outputs": [
    {
     "name": "stdout",
     "output_type": "stream",
     "text": [
      "Hello Blue Jays\n"
     ]
    }
   ],
   "source": [
    "print(message)"
   ],
   "metadata": {
    "collapsed": false,
    "pycharm": {
     "name": "#%%\n"
    }
   }
  },
  {
   "cell_type": "markdown",
   "source": [
    "Using the <font color='Red'> \"{ }\".format( )(\"old_string\", \"new_string\") </font> system to substitute variables into strings"
   ],
   "metadata": {
    "collapsed": false
   }
  },
  {
   "cell_type": "code",
   "execution_count": 54,
   "outputs": [
    {
     "data": {
      "text/plain": "'Hello, Blue Jays Welcome back!'"
     },
     "execution_count": 54,
     "metadata": {},
     "output_type": "execute_result"
    }
   ],
   "source": [
    "greeting  = \"Hello\"\n",
    "name = \"Blue Jays\"\n",
    "message = \"{}, {} Welcome back!\".format(greeting, name)\n",
    "message"
   ],
   "metadata": {
    "collapsed": false,
    "pycharm": {
     "name": "#%%\n"
    }
   }
  },
  {
   "cell_type": "markdown",
   "source": [
    "### Integer"
   ],
   "metadata": {
    "collapsed": false,
    "pycharm": {
     "name": "#%% md\n"
    }
   }
  },
  {
   "cell_type": "code",
   "execution_count": 55,
   "outputs": [
    {
     "name": "stdout",
     "output_type": "stream",
     "text": [
      "<class 'int'> 4\n"
     ]
    }
   ],
   "source": [
    "a = 4\n",
    "print(type(a),a)"
   ],
   "metadata": {
    "collapsed": false,
    "pycharm": {
     "name": "#%%\n"
    }
   }
  },
  {
   "cell_type": "markdown",
   "source": [
    "### Float"
   ],
   "metadata": {
    "collapsed": false,
    "pycharm": {
     "name": "#%% md\n"
    }
   }
  },
  {
   "cell_type": "code",
   "execution_count": 56,
   "outputs": [
    {
     "name": "stdout",
     "output_type": "stream",
     "text": [
      "<class 'float'> 0.6666666666666666\n"
     ]
    }
   ],
   "source": [
    "b = 2/3\n",
    "print(type(b),b)"
   ],
   "metadata": {
    "collapsed": false,
    "pycharm": {
     "name": "#%%\n"
    }
   }
  },
  {
   "cell_type": "markdown",
   "source": [
    "#### Float can be converted to integer, but it is round down by default"
   ],
   "metadata": {
    "collapsed": false,
    "pycharm": {
     "name": "#%% md\n"
    }
   }
  },
  {
   "cell_type": "code",
   "execution_count": 57,
   "outputs": [
    {
     "name": "stdout",
     "output_type": "stream",
     "text": [
      "<class 'int'> 0\n"
     ]
    }
   ],
   "source": [
    "b2 = int(b)\n",
    "print(type(b2), b2)"
   ],
   "metadata": {
    "collapsed": false,
    "pycharm": {
     "name": "#%%\n"
    }
   }
  },
  {
   "cell_type": "markdown",
   "source": [
    "#### Use \"round\" to convert float to integer with rounding up/down"
   ],
   "metadata": {
    "collapsed": false,
    "pycharm": {
     "name": "#%% md\n"
    }
   }
  },
  {
   "cell_type": "code",
   "execution_count": 58,
   "outputs": [
    {
     "name": "stdout",
     "output_type": "stream",
     "text": [
      "<class 'int'> 1\n"
     ]
    }
   ],
   "source": [
    "b3 = round(b)\n",
    "print(type(b3), b3)"
   ],
   "metadata": {
    "collapsed": false,
    "pycharm": {
     "name": "#%%\n"
    }
   }
  },
  {
   "cell_type": "markdown",
   "source": [
    "### Complex"
   ],
   "metadata": {
    "collapsed": false,
    "pycharm": {
     "name": "#%% md\n"
    }
   }
  },
  {
   "cell_type": "code",
   "source": [
    "c = 5+6j\n",
    "print(type(c),c)"
   ],
   "metadata": {
    "collapsed": false,
    "pycharm": {
     "name": "#%%\n"
    }
   },
   "execution_count": 59,
   "outputs": [
    {
     "name": "stdout",
     "output_type": "stream",
     "text": [
      "<class 'complex'> (5+6j)\n"
     ]
    }
   ]
  },
  {
   "cell_type": "markdown",
   "source": [
    "### Boolean"
   ],
   "metadata": {
    "collapsed": false,
    "pycharm": {
     "name": "#%% md\n"
    }
   }
  },
  {
   "cell_type": "code",
   "execution_count": 60,
   "outputs": [
    {
     "name": "stdout",
     "output_type": "stream",
     "text": [
      "<class 'bool'> True\n"
     ]
    }
   ],
   "source": [
    "d = True\n",
    "print(type(d),d)"
   ],
   "metadata": {
    "collapsed": false,
    "pycharm": {
     "name": "#%%\n"
    }
   }
  },
  {
   "cell_type": "markdown",
   "source": [
    "#### Use \"not\" operator to \"flip\" True to False"
   ],
   "metadata": {
    "collapsed": false,
    "pycharm": {
     "name": "#%% md\n"
    }
   }
  },
  {
   "cell_type": "code",
   "execution_count": 61,
   "outputs": [
    {
     "name": "stdout",
     "output_type": "stream",
     "text": [
      "True False\n"
     ]
    }
   ],
   "source": [
    "print(d, not d)\n"
   ],
   "metadata": {
    "collapsed": false,
    "pycharm": {
     "name": "#%%\n"
    }
   }
  },
  {
   "cell_type": "markdown",
   "source": [
    "#### Boolean is used in If statement"
   ],
   "metadata": {
    "collapsed": false,
    "pycharm": {
     "name": "#%% md\n"
    }
   }
  },
  {
   "cell_type": "code",
   "execution_count": 62,
   "outputs": [
    {
     "data": {
      "text/plain": "True"
     },
     "execution_count": 62,
     "metadata": {},
     "output_type": "execute_result"
    }
   ],
   "source": [
    "k = 2\n",
    "condition = k>1\n",
    "condition"
   ],
   "metadata": {
    "collapsed": false,
    "pycharm": {
     "name": "#%%\n"
    }
   }
  },
  {
   "cell_type": "code",
   "execution_count": 67,
   "outputs": [
    {
     "name": "stdout",
     "output_type": "stream",
     "text": [
      "2 is bigger than 1\n"
     ]
    }
   ],
   "source": [
    "if k>1:\n",
    "    print('2 is bigger than 1')\n",
    "else:\n",
    "    print('1 is bigger than 2')\n"
   ],
   "metadata": {
    "collapsed": false,
    "pycharm": {
     "name": "#%%\n"
    }
   }
  },
  {
   "cell_type": "markdown",
   "source": [
    "### List"
   ],
   "metadata": {
    "collapsed": false,
    "pycharm": {
     "name": "#%% md\n"
    }
   }
  },
  {
   "cell_type": "code",
   "execution_count": 73,
   "outputs": [
    {
     "name": "stdout",
     "output_type": "stream",
     "text": [
      "<class 'list'> [1, 2, 3, 4]\n"
     ]
    }
   ],
   "source": [
    "# list\n",
    "e1 = [1,2,3,4]\n",
    "print(type(e1),e1)"
   ],
   "metadata": {
    "collapsed": false,
    "pycharm": {
     "name": "#%%\n"
    }
   }
  },
  {
   "cell_type": "markdown",
   "source": [
    "#### Variables with different data type can be put in a list"
   ],
   "metadata": {
    "collapsed": false,
    "pycharm": {
     "name": "#%% md\n"
    }
   }
  },
  {
   "cell_type": "code",
   "execution_count": 75,
   "outputs": [
    {
     "name": "stdout",
     "output_type": "stream",
     "text": [
      "<class 'list'> [4, 0.6666666666666666, (5+6j), True]\n"
     ]
    }
   ],
   "source": [
    "e2 = [a,b,c,d]\n",
    "print(type(e2),e2)"
   ],
   "metadata": {
    "collapsed": false,
    "pycharm": {
     "name": "#%%\n"
    }
   }
  },
  {
   "cell_type": "markdown",
   "source": [
    "#### Access elements using index"
   ],
   "metadata": {
    "collapsed": false,
    "pycharm": {
     "name": "#%% md\n"
    }
   }
  },
  {
   "cell_type": "code",
   "execution_count": 80,
   "outputs": [
    {
     "name": "stdout",
     "output_type": "stream",
     "text": [
      "4\n",
      "True\n"
     ]
    }
   ],
   "source": [
    "print(e2[0])\n",
    "print(e2[-1])"
   ],
   "metadata": {
    "collapsed": false,
    "pycharm": {
     "name": "#%%\n"
    }
   }
  },
  {
   "cell_type": "markdown",
   "source": [
    "#### Python is equipped with many built-in tools."
   ],
   "metadata": {
    "collapsed": false,
    "pycharm": {
     "name": "#%% md\n"
    }
   }
  },
  {
   "cell_type": "code",
   "execution_count": 81,
   "outputs": [
    {
     "name": "stdout",
     "output_type": "stream",
     "text": [
      "[True, (5+6j), 0.6666666666666666, 4]\n"
     ]
    }
   ],
   "source": [
    "# reverse order\n",
    "e2.reverse()\n",
    "print(e2)"
   ],
   "metadata": {
    "collapsed": false,
    "pycharm": {
     "name": "#%%\n"
    }
   }
  },
  {
   "cell_type": "code",
   "execution_count": 82,
   "outputs": [
    {
     "name": "stdout",
     "output_type": "stream",
     "text": [
      "[True, (5+6j), 0.6666666666666666, 4, 1]\n"
     ]
    }
   ],
   "source": [
    "e2.append(1)\n",
    "print(e2)"
   ],
   "metadata": {
    "collapsed": false,
    "pycharm": {
     "name": "#%%\n"
    }
   }
  },
  {
   "cell_type": "code",
   "execution_count": 83,
   "outputs": [
    {
     "name": "stdout",
     "output_type": "stream",
     "text": [
      "There are 3 ones in the list\n"
     ]
    }
   ],
   "source": [
    "# count number of occurrence in list\n",
    "e3 = [1,1,2,3,1,2]\n",
    "print('There are {} ones in the list'.format(e3.count(1)))"
   ],
   "metadata": {
    "collapsed": false,
    "pycharm": {
     "name": "#%%\n"
    }
   }
  },
  {
   "cell_type": "markdown",
   "source": [
    "### Tuple\n",
    "- Immutable"
   ],
   "metadata": {
    "collapsed": false,
    "pycharm": {
     "name": "#%% md\n"
    }
   }
  },
  {
   "cell_type": "code",
   "execution_count": 85,
   "outputs": [
    {
     "name": "stdout",
     "output_type": "stream",
     "text": [
      "<class 'tuple'> (4, 0.6666666666666666, (5+6j), True)\n",
      "4\n"
     ]
    }
   ],
   "source": [
    "f = (a,b,c,d)\n",
    "print(type(f),f)\n",
    "\n",
    "# access elements using index\n",
    "print(f[0])"
   ],
   "metadata": {
    "collapsed": false,
    "pycharm": {
     "name": "#%%\n"
    }
   }
  },
  {
   "cell_type": "code",
   "execution_count": 86,
   "outputs": [
    {
     "ename": "TypeError",
     "evalue": "'tuple' object does not support item assignment",
     "output_type": "error",
     "traceback": [
      "\u001B[1;31m---------------------------------------------------------------------------\u001B[0m",
      "\u001B[1;31mTypeError\u001B[0m                                 Traceback (most recent call last)",
      "Input \u001B[1;32mIn [86]\u001B[0m, in \u001B[0;36m<module>\u001B[1;34m\u001B[0m\n\u001B[1;32m----> 1\u001B[0m f[\u001B[38;5;241m0\u001B[39m]\u001B[38;5;241m=\u001B[39m\u001B[38;5;241m5\u001B[39m\n",
      "\u001B[1;31mTypeError\u001B[0m: 'tuple' object does not support item assignment"
     ]
    }
   ],
   "source": [
    "f[0]=5"
   ],
   "metadata": {
    "collapsed": false,
    "pycharm": {
     "name": "#%%\n"
    }
   }
  },
  {
   "cell_type": "markdown",
   "source": [
    "### Set\n",
    "- no index/order, unchangeable, but can add or remove item"
   ],
   "metadata": {
    "collapsed": false,
    "pycharm": {
     "name": "#%% md\n"
    }
   }
  },
  {
   "cell_type": "code",
   "execution_count": 87,
   "outputs": [
    {
     "name": "stdout",
     "output_type": "stream",
     "text": [
      "<class 'set'> {0.6666666666666666, True, 4, (5+6j)}\n",
      "<class 'tuple'> (4, 0.6666666666666666, (5+6j), True)\n"
     ]
    }
   ],
   "source": [
    "set_A = {a,b,c,d}\n",
    "print(type(set_A),set_A) #there is no order in set\n",
    "print(type(f),f) #tuple has order"
   ],
   "metadata": {
    "collapsed": false,
    "pycharm": {
     "name": "#%%\n"
    }
   }
  },
  {
   "cell_type": "code",
   "execution_count": 88,
   "outputs": [
    {
     "ename": "TypeError",
     "evalue": "'set' object is not subscriptable",
     "output_type": "error",
     "traceback": [
      "\u001B[1;31m---------------------------------------------------------------------------\u001B[0m",
      "\u001B[1;31mTypeError\u001B[0m                                 Traceback (most recent call last)",
      "Input \u001B[1;32mIn [88]\u001B[0m, in \u001B[0;36m<module>\u001B[1;34m\u001B[0m\n\u001B[0;32m      1\u001B[0m \u001B[38;5;66;03m# cannot access elements using index\u001B[39;00m\n\u001B[1;32m----> 2\u001B[0m \u001B[38;5;28mprint\u001B[39m(\u001B[43mset_A\u001B[49m\u001B[43m[\u001B[49m\u001B[38;5;241;43m0\u001B[39;49m\u001B[43m]\u001B[49m)\n",
      "\u001B[1;31mTypeError\u001B[0m: 'set' object is not subscriptable"
     ]
    }
   ],
   "source": [
    "# cannot access elements using index\n",
    "print(set_A[0])"
   ],
   "metadata": {
    "collapsed": false,
    "pycharm": {
     "name": "#%%\n"
    }
   }
  },
  {
   "cell_type": "code",
   "execution_count": 89,
   "outputs": [
    {
     "name": "stdout",
     "output_type": "stream",
     "text": [
      "set A {0.6666666666666666, True, 4, (5+6j)}\n",
      "set B {0.6666666666666666, 'hi', 4, (5+6j)}\n",
      "A n B {0.6666666666666666, 4, (5+6j)}\n"
     ]
    }
   ],
   "source": [
    "set_B = {a,b,c,'hi'}\n",
    "intersection = set_A.intersection(set_B)\n",
    "\n",
    "print('set A',set_A)\n",
    "print('set B',set_B)\n",
    "print('A n B',intersection)"
   ],
   "metadata": {
    "collapsed": false,
    "pycharm": {
     "name": "#%%\n"
    }
   }
  },
  {
   "cell_type": "markdown",
   "source": [
    "### Dictionary"
   ],
   "metadata": {
    "collapsed": false,
    "pycharm": {
     "name": "#%% md\n"
    }
   }
  },
  {
   "cell_type": "code",
   "execution_count": 90,
   "outputs": [
    {
     "name": "stdout",
     "output_type": "stream",
     "text": [
      "<class 'dict'> {'int': 4, 'float': 0.6666666666666666, 'complex': (5+6j), 'bool': True, 'list': [1, 2, 3, 4], 'tuple': (4, 0.6666666666666666, (5+6j), True), 'set': {0.6666666666666666, True, 4, (5+6j)}}\n"
     ]
    }
   ],
   "source": [
    "dict_A = {'int':a,\n",
    "     'float':b,\n",
    "     'complex':c,\n",
    "     'bool':d,\n",
    "     'list':e1,\n",
    "     'tuple':f,\n",
    "     'set':set_A}\n",
    "print(type(dict_A),dict_A)"
   ],
   "metadata": {
    "collapsed": false,
    "pycharm": {
     "name": "#%%\n"
    }
   }
  },
  {
   "cell_type": "markdown",
   "source": [
    "#### Access elements using 'key' tag"
   ],
   "metadata": {
    "collapsed": false,
    "pycharm": {
     "name": "#%% md\n"
    }
   }
  },
  {
   "cell_type": "code",
   "execution_count": 92,
   "outputs": [
    {
     "name": "stdout",
     "output_type": "stream",
     "text": [
      "<class 'int'> 4\n"
     ]
    }
   ],
   "source": [
    "print(type(dict_A['int']),dict_A['int'])"
   ],
   "metadata": {
    "collapsed": false,
    "pycharm": {
     "name": "#%%\n"
    }
   }
  },
  {
   "cell_type": "markdown",
   "source": [
    "#### Get a list of all keys"
   ],
   "metadata": {
    "collapsed": false,
    "pycharm": {
     "name": "#%% md\n"
    }
   }
  },
  {
   "cell_type": "code",
   "execution_count": 93,
   "outputs": [
    {
     "name": "stdout",
     "output_type": "stream",
     "text": [
      "dict_keys(['int', 'float', 'complex', 'bool', 'list', 'tuple', 'set'])\n"
     ]
    }
   ],
   "source": [
    "print(dict_A.keys())"
   ],
   "metadata": {
    "collapsed": false,
    "pycharm": {
     "name": "#%%\n"
    }
   }
  },
  {
   "cell_type": "markdown",
   "source": [
    "#### Add a new entry"
   ],
   "metadata": {
    "collapsed": false,
    "pycharm": {
     "name": "#%% md\n"
    }
   }
  },
  {
   "cell_type": "code",
   "execution_count": 95,
   "outputs": [
    {
     "name": "stdout",
     "output_type": "stream",
     "text": [
      "{'int': 4, 'float': 0.6666666666666666, 'complex': (5+6j), 'bool': True, 'list': [1, 2, 3, 4], 'tuple': (4, 0.6666666666666666, (5+6j), True), 'set': {0.6666666666666666, True, 4, (5+6j)}, 'my_name': 'kyu'}\n"
     ]
    }
   ],
   "source": [
    "dict_A[\"my_name\"]='kyu'\n",
    "print(dict_A)"
   ],
   "metadata": {
    "collapsed": false,
    "pycharm": {
     "name": "#%%\n"
    }
   }
  },
  {
   "cell_type": "markdown",
   "source": [
    "#### Change existing value"
   ],
   "metadata": {
    "collapsed": false,
    "pycharm": {
     "name": "#%% md\n"
    }
   }
  },
  {
   "cell_type": "code",
   "execution_count": 96,
   "outputs": [
    {
     "name": "stdout",
     "output_type": "stream",
     "text": [
      "{'int': 4, 'float': 0.6666666666666666, 'complex': (5+6j), 'bool': True, 'list': [1, 2, 3, 4], 'tuple': (4, 0.6666666666666666, (5+6j), True), 'set': {0.6666666666666666, True, 4, (5+6j)}, 'my_name': 'q'}\n"
     ]
    }
   ],
   "source": [
    "dict_A[\"my_name\"]='q'\n",
    "print(dict_A)"
   ],
   "metadata": {
    "collapsed": false,
    "pycharm": {
     "name": "#%%\n"
    }
   }
  },
  {
   "cell_type": "markdown",
   "source": [
    "#### Delete an entry"
   ],
   "metadata": {
    "collapsed": false,
    "pycharm": {
     "name": "#%% md\n"
    }
   }
  },
  {
   "cell_type": "code",
   "execution_count": 97,
   "outputs": [
    {
     "name": "stdout",
     "output_type": "stream",
     "text": [
      "{'int': 4, 'float': 0.6666666666666666, 'complex': (5+6j), 'bool': True, 'list': [1, 2, 3, 4], 'tuple': (4, 0.6666666666666666, (5+6j), True), 'set': {0.6666666666666666, True, 4, (5+6j)}}\n"
     ]
    }
   ],
   "source": [
    "del dict_A[\"my_name\"]\n",
    "print(dict_A)"
   ],
   "metadata": {
    "collapsed": false,
    "pycharm": {
     "name": "#%%\n"
    }
   }
  },
  {
   "cell_type": "markdown",
   "source": [
    "### Tip 2: For-loop, Enumerate, List comprehension"
   ],
   "metadata": {
    "collapsed": false,
    "pycharm": {
     "name": "#%% md\n"
    }
   }
  },
  {
   "cell_type": "code",
   "execution_count": 99,
   "outputs": [
    {
     "name": "stdout",
     "output_type": "stream",
     "text": [
      "3\n",
      "5\n",
      "7\n",
      "9\n",
      "11\n"
     ]
    }
   ],
   "source": [
    "array_A = [1,3,5,7,9]\n",
    "\n",
    "for element in array_A:\n",
    "    print(element+2)"
   ],
   "metadata": {
    "collapsed": false,
    "pycharm": {
     "name": "#%%\n"
    }
   }
  },
  {
   "cell_type": "markdown",
   "source": [
    "#### List comprehension"
   ],
   "metadata": {
    "collapsed": false,
    "pycharm": {
     "name": "#%% md\n"
    }
   }
  },
  {
   "cell_type": "code",
   "execution_count": 101,
   "outputs": [
    {
     "name": "stdout",
     "output_type": "stream",
     "text": [
      "[2, 4, 6, 8, 10]\n"
     ]
    }
   ],
   "source": [
    "array_B = []\n",
    "for element in array_A:\n",
    "    new_element = element + 1\n",
    "    array_B.append(new_element)\n",
    "print(array_B)"
   ],
   "metadata": {
    "collapsed": false,
    "pycharm": {
     "name": "#%%\n"
    }
   }
  },
  {
   "cell_type": "code",
   "execution_count": 103,
   "outputs": [
    {
     "data": {
      "text/plain": "[2, 4, 6, 8, 10]"
     },
     "execution_count": 103,
     "metadata": {},
     "output_type": "execute_result"
    }
   ],
   "source": [
    "[element+1 for element in array_A]"
   ],
   "metadata": {
    "collapsed": false,
    "pycharm": {
     "name": "#%%\n"
    }
   }
  },
  {
   "cell_type": "code",
   "execution_count": 104,
   "outputs": [
    {
     "name": "stdout",
     "output_type": "stream",
     "text": [
      "index:  0 element:  1\n",
      "index:  1 element:  3\n",
      "index:  2 element:  5\n",
      "index:  3 element:  7\n",
      "index:  4 element:  9\n"
     ]
    }
   ],
   "source": [
    "for idx,elem in enumerate(array_A):\n",
    "    print('index: ',idx,'element: ',elem)"
   ],
   "metadata": {
    "collapsed": false,
    "pycharm": {
     "name": "#%%\n"
    }
   }
  },
  {
   "cell_type": "markdown",
   "source": [
    "### Tip 3: Sympy for solving equations"
   ],
   "metadata": {
    "collapsed": false,
    "pycharm": {
     "name": "#%% md\n"
    }
   }
  },
  {
   "cell_type": "code",
   "execution_count": 105,
   "outputs": [
    {
     "name": "stdout",
     "output_type": "stream",
     "text": [
      "Collecting package metadata (current_repodata.json): ...working... done\n",
      "Solving environment: ...working... done\n",
      "\n",
      "## Package Plan ##\n",
      "\n",
      "  environment location: C:\\Users\\kyuha\\anaconda3\\envs\\separations_S22\n",
      "\n",
      "  added / updated specs:\n",
      "    - sympy\n",
      "\n",
      "\n",
      "The following packages will be downloaded:\n",
      "\n",
      "    package                    |            build\n",
      "    ---------------------------|-----------------\n",
      "    mpmath-1.2.1               |  py310haa95532_0         779 KB\n",
      "    sympy-1.9                  |  py310haa95532_0         9.4 MB\n",
      "    ------------------------------------------------------------\n",
      "                                           Total:        10.1 MB\n",
      "\n",
      "The following NEW packages will be INSTALLED:\n",
      "\n",
      "  mpmath             pkgs/main/win-64::mpmath-1.2.1-py310haa95532_0\n",
      "  sympy              pkgs/main/win-64::sympy-1.9-py310haa95532_0\n",
      "\n",
      "\n",
      "\n",
      "Downloading and Extracting Packages\n",
      "\n",
      "sympy-1.9            | 9.4 MB    |            |   0% \n",
      "sympy-1.9            | 9.4 MB    | 1          |   2% \n",
      "sympy-1.9            | 9.4 MB    | #7         |  18% \n",
      "sympy-1.9            | 9.4 MB    | ####6      |  47% \n",
      "sympy-1.9            | 9.4 MB    | #######6   |  77% \n",
      "sympy-1.9            | 9.4 MB    | ########## | 100% \n",
      "sympy-1.9            | 9.4 MB    | ########## | 100% \n",
      "\n",
      "mpmath-1.2.1         | 779 KB    |            |   0% \n",
      "mpmath-1.2.1         | 779 KB    | ########## | 100% \n",
      "mpmath-1.2.1         | 779 KB    | ########## | 100% \n",
      "Preparing transaction: ...working... done\n",
      "Verifying transaction: ...working... done\n",
      "Executing transaction: ...working... done\n",
      "\n",
      "Note: you may need to restart the kernel to use updated packages.\n"
     ]
    },
    {
     "name": "stderr",
     "output_type": "stream",
     "text": [
      "\n",
      "\n",
      "==> WARNING: A newer version of conda exists. <==\n",
      "  current version: 4.10.1\n",
      "  latest version: 4.11.0\n",
      "\n",
      "Please update conda by running\n",
      "\n",
      "    $ conda update -n base -c defaults conda\n",
      "\n",
      "\n"
     ]
    }
   ],
   "source": [
    "conda install sympy"
   ],
   "metadata": {
    "collapsed": false,
    "pycharm": {
     "name": "#%%\n"
    }
   }
  },
  {
   "cell_type": "markdown",
   "source": [
    "### $Eqn 1:  2𝑥^2 + 𝑦 + 𝑧 = 1$\n",
    "### $Eqn 2:  𝑥 + 2𝑦 + 𝑧 = 𝑐_{1}$\n",
    "### $Eqn 3:  −2𝑥 + 𝑦 = −𝑧$"
   ],
   "metadata": {
    "collapsed": false,
    "pycharm": {
     "name": "#%% md\n"
    }
   }
  },
  {
   "cell_type": "code",
   "execution_count": 106,
   "outputs": [
    {
     "data": {
      "text/plain": "[(-1/2 + sqrt(3)/2, c1 - 3*sqrt(3)/2 + 3/2, -c1 - 5/2 + 5*sqrt(3)/2),\n (-sqrt(3)/2 - 1/2, c1 + 3/2 + 3*sqrt(3)/2, -c1 - 5*sqrt(3)/2 - 5/2)]"
     },
     "execution_count": 106,
     "metadata": {},
     "output_type": "execute_result"
    }
   ],
   "source": [
    "import sympy as sym\n",
    "x,y,z = sym.symbols('x,y,z')\n",
    "c1 = sym.Symbol('c1')\n",
    "eq1 = sym.Eq(2*x**2+y+z,1)\n",
    "eq2 = sym.Eq(x+2*y+z,c1)\n",
    "eq3 = sym.Eq(-2*x+y,-z)\n",
    "results = sym.solve([eq1,eq2,eq3],(x,y,z))\n",
    "\n",
    "results"
   ],
   "metadata": {
    "collapsed": false,
    "pycharm": {
     "name": "#%%\n"
    }
   }
  },
  {
   "cell_type": "code",
   "execution_count": 107,
   "outputs": [
    {
     "name": "stdout",
     "output_type": "stream",
     "text": [
      "The #1 solution is\n",
      "x =  -1/2 + sqrt(3)/2\n",
      "y =  c1 - 3*sqrt(3)/2 + 3/2\n",
      "z =  -c1 - 5/2 + 5*sqrt(3)/2\n",
      "\n",
      "The #2 solution is\n",
      "x =  -sqrt(3)/2 - 1/2\n",
      "y =  c1 + 3/2 + 3*sqrt(3)/2\n",
      "z =  -c1 - 5*sqrt(3)/2 - 5/2\n",
      "\n"
     ]
    }
   ],
   "source": [
    "for index, result in enumerate(results, 1):\n",
    "    print(\"The #{} solution is\".format(index))\n",
    "    print(\"x = \", result[0])\n",
    "    print(\"y = \", result[1])\n",
    "    print(\"z = \", result[2])\n",
    "    print()"
   ],
   "metadata": {
    "collapsed": false,
    "pycharm": {
     "name": "#%%\n"
    }
   }
  },
  {
   "cell_type": "markdown",
   "source": [
    "### A simple mass balance question\n",
    "\n",
    "* Overall mass balance: $m1 + 5300  = m3 +1200 +m5$\n",
    "* B balance: $0.03 * m1 + x2 * 5300 = (0.3 - x4) * 1200 + 0.6  * m5$\n",
    "* C balance: $0.97 * m1 = x4(1200) + 0.4 * m5$\n",
    "* m3 is half the flow rate of $m1: m3 = 0.5 * m1$\n",
    "* 90% of C in m1 exits in m5: $0.9 * (0.97 * m1) = 0.4 * (m5)$"
   ],
   "metadata": {
    "collapsed": false,
    "pycharm": {
     "name": "#%% md\n"
    }
   }
  },
  {
   "cell_type": "code",
   "execution_count": 108,
   "outputs": [
    {
     "data": {
      "text/plain": "{m1: 2436.84992570580,\n m3: 1218.42496285290,\n m5: 5318.42496285290,\n x2: 0.611617931537189,\n x4: 0.196978702327885}"
     },
     "execution_count": 108,
     "metadata": {},
     "output_type": "execute_result"
    }
   ],
   "source": [
    "import sympy as sym\n",
    "\n",
    "sym.var('m1, m3, m5, x2, x4')\n",
    "\n",
    "eq1 = sym.Eq(m1 + 5300, m3 + 1200 + m5)\n",
    "eq2 = sym.Eq(0.03*m1 + x2*5300, (0.3-x4)*1200 + 0.6*m5)\n",
    "eq3 = sym.Eq(0.97*m1, x4*1200 + 0.4*m5)\n",
    "eq4 = sym.Eq(m3, 0.5*m1)\n",
    "eq5 = sym.Eq(0.9*0.97*m1, 0.4*m5)\n",
    "\n",
    "results2 = sym.solve([eq1, eq2, eq3, eq4, eq5], (m1, m3, m5, x2, x4))\n",
    "results2"
   ],
   "metadata": {
    "collapsed": false,
    "pycharm": {
     "name": "#%%\n"
    }
   }
  }
 ],
 "metadata": {
  "kernelspec": {
   "display_name": "Python 3 (ipykernel)",
   "language": "python",
   "name": "python3"
  },
  "language_info": {
   "codemirror_mode": {
    "name": "ipython",
    "version": 3
   },
   "file_extension": ".py",
   "mimetype": "text/x-python",
   "name": "python",
   "nbconvert_exporter": "python",
   "pygments_lexer": "ipython3",
   "version": "3.9.7"
  }
 },
 "nbformat": 4,
 "nbformat_minor": 4
}